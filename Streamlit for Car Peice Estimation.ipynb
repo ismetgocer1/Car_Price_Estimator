{
 "cells": [
  {
   "cell_type": "code",
   "execution_count": 3,
   "id": "d608dedc",
   "metadata": {
    "ExecuteTime": {
     "end_time": "2024-08-20T19:50:54.560727Z",
     "start_time": "2024-08-20T19:50:54.543454Z"
    }
   },
   "outputs": [
    {
     "name": "stdout",
     "output_type": "stream",
     "text": [
      "Overwriting Streamlit_app.py\n"
     ]
    }
   ],
   "source": [
    "%%writefile Streamlit_app.py\n",
    "import streamlit as st\n",
    "import pandas as pd\n",
    "import joblib\n",
    "\n",
    "# Load the trained machine learning model\n",
    "predicted_model = joblib.load('lasso_model.pkl')\n",
    "\n",
    "# Load the dataset\n",
    "df = pd.read_csv('car_price_prediction_edit.csv')\n",
    "\n",
    "# Grouping and preparing dictionaries\n",
    "model_dict = df.groupby('Manufacturer')['Model'].unique().to_dict()\n",
    "category_dict = df.groupby('Model')['Category'].unique().to_dict()\n",
    "fuel_type_dict = df.groupby('Category')['Fuel_type'].unique().to_dict()\n",
    "gear_type_dict = df.groupby('Category')['Gear_type'].unique().to_dict()\n",
    "\n",
    "# Convert numpy arrays to lists for better compatibility\n",
    "for dictionary in [model_dict, category_dict, fuel_type_dict, gear_type_dict]:\n",
    "    for key, value in dictionary.items():\n",
    "        dictionary[key] = list(value)\n",
    "\n",
    "# Streamlit UI\n",
    "def main():\n",
    "    st.title(\"Car Price Prediction\")\n",
    "\n",
    "    # Sidebar with feature input\n",
    "    st.sidebar.header(\"Input Features\")\n",
    "\n",
    "    # Manufacturer Selection\n",
    "    manufacturer = st.sidebar.selectbox(\"Manufacturer\", df['Manufacturer'].unique())\n",
    "\n",
    "    # Based on Manufacturer, display the Models\n",
    "    model = st.sidebar.selectbox(\"Model\", model_dict[manufacturer])\n",
    "\n",
    "    # Based on Model, display the Categories\n",
    "    category = st.sidebar.selectbox(\"Category\", category_dict[model])\n",
    "\n",
    "    # Based on Category, display the Fuel Types and Gear Types\n",
    "    fuel_type = st.sidebar.selectbox(\"Fuel Type\", fuel_type_dict[category])\n",
    "    gear_type = st.sidebar.selectbox(\"Gear Type\", gear_type_dict[category])\n",
    "\n",
    "    produced_year = st.sidebar.slider(\"Produced Year\", min_value=2000, max_value=2023, value=2010, step=1)\n",
    "\n",
    "    # Displaying the user input for Streamlit view\n",
    "    display_data = {\n",
    "        'Manufacturer': manufacturer,\n",
    "        'Model': model,\n",
    "        'Produced Year': f\"{produced_year}\",  # Display without comma\n",
    "        'Category': category,\n",
    "        'Fuel Type': fuel_type,\n",
    "        'Gear Type': gear_type\n",
    "    }\n",
    "    st.subheader(\"User Input Features\")\n",
    "    st.write(pd.DataFrame([display_data]))\n",
    "\n",
    "    data_for_prediction = {\n",
    "        'Manufacturer': [manufacturer],\n",
    "        'Model': [model],\n",
    "        'Produced_year': [produced_year],  # Correct column name for prediction\n",
    "        'Category': [category],\n",
    "        'Fuel_type': [fuel_type],\n",
    "        'Gear_type': [gear_type]\n",
    "    }\n",
    "    predicted_price = predicted_model.predict(pd.DataFrame(data_for_prediction))\n",
    "\n",
    "    # Display the prediction in the Streamlit app\n",
    "    st.subheader('Predicted Price')\n",
    "    st.success(\"The estimated price of your car is ${}. \".format(int(predicted_price[0])))"
   ]
  },
  {
   "cell_type": "code",
   "execution_count": 1,
   "id": "a5cd7a0c",
   "metadata": {
    "ExecuteTime": {
     "end_time": "2024-08-20T20:13:07.031003Z",
     "start_time": "2024-08-20T20:13:07.018569Z"
    }
   },
   "outputs": [
    {
     "name": "stdout",
     "output_type": "stream",
     "text": [
      "Overwriting Streamlit_app.py\n"
     ]
    }
   ],
   "source": [
    "%%writefile Streamlit_app.py\n",
    "import streamlit as st\n",
    "import pandas as pd\n",
    "import joblib\n",
    "\n",
    "# Load the trained machine learning model\n",
    "predicted_model = joblib.load('lasso_model.pkl')\n",
    "\n",
    "# Load the dataset\n",
    "df = pd.read_csv('car_price_prediction_edit.csv')\n",
    "\n",
    "# Grouping and preparing dictionaries\n",
    "model_dict = df.groupby('Manufacturer')['Model'].unique().to_dict()\n",
    "category_dict = df.groupby('Model')['Category'].unique().to_dict()\n",
    "fuel_type_dict = df.groupby('Category')['Fuel_type'].unique().to_dict()\n",
    "gear_type_dict = df.groupby('Category')['Gear_type'].unique().to_dict()\n",
    "\n",
    "# Convert numpy arrays to lists for better compatibility\n",
    "for dictionary in [model_dict, category_dict, fuel_type_dict, gear_type_dict]:\n",
    "    for key, value in dictionary.items():\n",
    "        dictionary[key] = list(value)\n",
    "\n",
    "# Streamlit UI\n",
    "def main():\n",
    "    st.title(\"Car Price Prediction\")\n",
    "\n",
    "    # Sidebar with feature input\n",
    "    st.sidebar.header(\"Input Features\")\n",
    "\n",
    "    # Manufacturer Selection\n",
    "    manufacturer = st.sidebar.selectbox(\"Manufacturer\", df['Manufacturer'].unique())\n",
    "\n",
    "    # Based on Manufacturer, display the Models\n",
    "    model = st.sidebar.selectbox(\"Model\", model_dict[manufacturer])\n",
    "\n",
    "    # Based on Model, display the Categories\n",
    "    category = st.sidebar.selectbox(\"Category\", category_dict[model])\n",
    "\n",
    "    # Based on Category, display the Fuel Types and Gear Types\n",
    "    fuel_type = st.sidebar.selectbox(\"Fuel Type\", fuel_type_dict[category])\n",
    "    gear_type = st.sidebar.selectbox(\"Gear Type\", gear_type_dict[category])\n",
    "\n",
    "    produced_year = st.sidebar.slider(\"Produced Year\", min_value=2000, max_value=2023, value=2010, step=1)\n",
    "\n",
    "    # Displaying the user input for Streamlit view\n",
    "    display_data = {\n",
    "        'Manufacturer': manufacturer,\n",
    "        'Model': model,\n",
    "        'Produced Year': f\"{produced_year}\",  # Display without comma\n",
    "        'Category': category,\n",
    "        'Fuel Type': fuel_type,\n",
    "        'Gear Type': gear_type\n",
    "    }\n",
    "    st.subheader(\"User Input Features\")\n",
    "    st.write(pd.DataFrame([display_data]))\n",
    "\n",
    "    # Prepare the data for prediction\n",
    "    data_for_prediction = {\n",
    "        'Manufacturer': [manufacturer],\n",
    "        'Model': [model],\n",
    "        'Produced_year': [produced_year],  # Ensure the column names match with training data\n",
    "        'Category': [category],\n",
    "        'Fuel_type': [fuel_type],\n",
    "        'Gear_type': [gear_type]\n",
    "    }\n",
    "\n",
    "    # Predict the price\n",
    "    try:\n",
    "        predicted_price = predicted_model.predict(pd.DataFrame(data_for_prediction))\n",
    "        st.subheader('Predicted Price')\n",
    "        st.success(\"The estimated price of your car is ${}. \".format(int(predicted_price[0])))\n",
    "    except Exception as e:\n",
    "        st.error(f\"Error during prediction: {e}\")\n",
    "        \n",
    "if __name__ == '__main__':\n",
    "    main()"
   ]
  },
  {
   "cell_type": "code",
   "execution_count": null,
   "id": "42771cda",
   "metadata": {
    "ExecuteTime": {
     "start_time": "2024-08-20T20:13:08.929Z"
    }
   },
   "outputs": [],
   "source": [
    "!streamlit run Streamlit_app.py"
   ]
  },
  {
   "cell_type": "code",
   "execution_count": null,
   "id": "fef444b6",
   "metadata": {},
   "outputs": [],
   "source": []
  }
 ],
 "metadata": {
  "hide_input": false,
  "kernelspec": {
   "display_name": "Python 3 (ipykernel)",
   "language": "python",
   "name": "python3"
  },
  "language_info": {
   "codemirror_mode": {
    "name": "ipython",
    "version": 3
   },
   "file_extension": ".py",
   "mimetype": "text/x-python",
   "name": "python",
   "nbconvert_exporter": "python",
   "pygments_lexer": "ipython3",
   "version": "3.11.5"
  },
  "toc": {
   "base_numbering": 1,
   "nav_menu": {},
   "number_sections": true,
   "sideBar": true,
   "skip_h1_title": false,
   "title_cell": "Table of Contents",
   "title_sidebar": "Contents",
   "toc_cell": false,
   "toc_position": {},
   "toc_section_display": true,
   "toc_window_display": false
  }
 },
 "nbformat": 4,
 "nbformat_minor": 5
}

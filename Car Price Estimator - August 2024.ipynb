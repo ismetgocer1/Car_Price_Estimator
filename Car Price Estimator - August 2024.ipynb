{
 "cells": [
  {
   "cell_type": "code",
   "execution_count": 2,
   "id": "89df2fab",
   "metadata": {
    "ExecuteTime": {
     "end_time": "2024-08-20T20:12:42.612518Z",
     "start_time": "2024-08-20T20:12:17.955298Z"
    }
   },
   "outputs": [],
   "source": [
    "import pandas as pd\n",
    "from sklearn.model_selection import train_test_split\n",
    "from sklearn.pipeline import Pipeline\n",
    "from sklearn.compose import ColumnTransformer\n",
    "from sklearn.preprocessing import StandardScaler\n",
    "from sklearn.linear_model import Lasso\n",
    "from sklearn.preprocessing import OneHotEncoder\n",
    "import joblib\n",
    "\n",
    "\n",
    "# 1. Load the dataset\n",
    "df = pd.read_csv(\"car_price_prediction.csv\")\n",
    "\n",
    "# 2. Data Preprocessing\n",
    "# Rename columns\n",
    "new_columns = {\n",
    "    'Prod. year': 'Produced_year',\n",
    "    'Gear box type': 'Gear_type',\n",
    "    'Fuel type': 'Fuel_type'\n",
    "}\n",
    "df = df.rename(columns=new_columns)\n",
    "\n",
    "# Handling potential missing values (you can change the strategy if needed)\n",
    "df.dropna(inplace=True)  # Drop rows with missing values\n",
    "\n",
    "# Define features and target\n",
    "X = df.drop('Price', axis=1)\n",
    "y = df['Price']\n",
    "\n",
    "# Define numeric and categorical columns\n",
    "numeric_features = ['Produced_year']\n",
    "categorical_features = ['Manufacturer', 'Model', 'Category','Fuel_type', 'Gear_type']\n",
    "\n",
    "# Create transformers\n",
    "numeric_transformer = StandardScaler()\n",
    "categorical_transformer = OneHotEncoder(handle_unknown='ignore', drop='first')\n",
    "\n",
    "\n",
    "# 3. Split the data\n",
    "X_train, X_test, y_train, y_test = train_test_split(X, y, test_size=0.2, random_state=42)\n",
    "\n",
    "# 4. Define and train the model\n",
    "# Use ColumnTransformer to apply the transformations to the correct columns\n",
    "preprocessor = ColumnTransformer(\n",
    "    transformers=[\n",
    "        ('num', numeric_transformer, numeric_features),\n",
    "        ('cat', categorical_transformer, categorical_features)\n",
    "    ])\n",
    "\n",
    "# Create a pipeline that first applies the column transformer and then fits the model\n",
    "lasso_model = Pipeline([\n",
    "    ('preprocessor', preprocessor),\n",
    "    ('regressor', Lasso(alpha=1.0))\n",
    "])\n",
    "\n",
    "# Train the model\n",
    "lasso_model.fit(X_train, y_train)\n",
    "\n",
    "# 5. Save the model\n",
    "joblib.dump(lasso_model, 'lasso_model.pkl')\n",
    "# Save the processed dataframe\n",
    "df.to_csv(\"car_price_prediction_edit.csv\", index=False)"
   ]
  },
  {
   "cell_type": "code",
   "execution_count": null,
   "id": "7f8c7ded",
   "metadata": {},
   "outputs": [],
   "source": []
  }
 ],
 "metadata": {
  "hide_input": false,
  "kernelspec": {
   "display_name": "Python 3 (ipykernel)",
   "language": "python",
   "name": "python3"
  },
  "language_info": {
   "codemirror_mode": {
    "name": "ipython",
    "version": 3
   },
   "file_extension": ".py",
   "mimetype": "text/x-python",
   "name": "python",
   "nbconvert_exporter": "python",
   "pygments_lexer": "ipython3",
   "version": "3.11.5"
  },
  "toc": {
   "base_numbering": 1,
   "nav_menu": {},
   "number_sections": true,
   "sideBar": true,
   "skip_h1_title": false,
   "title_cell": "Table of Contents",
   "title_sidebar": "Contents",
   "toc_cell": false,
   "toc_position": {},
   "toc_section_display": true,
   "toc_window_display": false
  }
 },
 "nbformat": 4,
 "nbformat_minor": 5
}
